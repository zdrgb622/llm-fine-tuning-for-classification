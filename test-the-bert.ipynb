{
 "cells": [
  {
   "cell_type": "code",
   "execution_count": 1,
   "id": "741d1c13-691d-4d91-aeab-8a2ff4f69150",
   "metadata": {},
   "outputs": [
    {
     "name": "stdout",
     "output_type": "stream",
     "text": [
      "import error: No module named 'triton'\n"
     ]
    }
   ],
   "source": [
    "from transformers import BertTokenizer, BertForSequenceClassification\n",
    "import torch\n",
    "from transformers import Trainer, TrainingArguments\n",
    "import numpy as np\n",
    "from sklearn.metrics import accuracy_score, precision_recall_fscore_support\n",
    "\n",
    "#load the model\n",
    "model_path = \"./finetuned_model\"\n",
    "tokenizer = BertTokenizer.from_pretrained(model_path)\n",
    "model = BertForSequenceClassification.from_pretrained(model_path)\n"
   ]
  },
  {
   "cell_type": "code",
   "execution_count": 2,
   "id": "fa5689ee-2e65-402b-9437-cee1af0236ac",
   "metadata": {},
   "outputs": [
    {
     "data": {
      "application/vnd.jupyter.widget-view+json": {
       "model_id": "62218dd088d4446eb748a517741afc73",
       "version_major": 2,
       "version_minor": 0
      },
      "text/plain": [
       "Generating train split: 0 examples [00:00, ? examples/s]"
      ]
     },
     "metadata": {},
     "output_type": "display_data"
    },
    {
     "data": {
      "application/vnd.jupyter.widget-view+json": {
       "model_id": "a735882dd4b14e3b85b4138d885fe3ad",
       "version_major": 2,
       "version_minor": 0
      },
      "text/plain": [
       "Map:   0%|          | 0/300000 [00:00<?, ? examples/s]"
      ]
     },
     "metadata": {},
     "output_type": "display_data"
    }
   ],
   "source": [
    "from datasets import load_dataset\n",
    "\n",
    "dataset_name = \"data/balanced_record_without_llm.csv\"\n",
    "dataset = load_dataset(\"csv\", data_files=dataset_name)\n",
    "\n",
    "# processing function which will be applied to the dataset\n",
    "def preprocess_function(examples):\n",
    "    text_inputs = examples[\"default/domain\"]\n",
    "    encoding = tokenizer(text_inputs, truncation=True, padding=\"max_length\", max_length=30)\n",
    "    encoding[\"label\"] = examples[\"default/class\"]\n",
    "\n",
    "    return encoding\n",
    "\n",
    "dataset = dataset.map(preprocess_function, batched=True)\n",
    "\n",
    "splited_dataset = dataset[\"train\"].train_test_split(test_size=0.2, seed=42)\n",
    "train_dataset, test_dataset = splited_dataset[\"train\"], splited_dataset[\"test\"]\n"
   ]
  },
  {
   "cell_type": "code",
   "execution_count": 3,
   "id": "a5a85e25-a83a-44a6-a715-82261088d203",
   "metadata": {},
   "outputs": [
    {
     "name": "stdout",
     "output_type": "stream",
     "text": [
      "Domain: samsungmobile.co.il\n",
      "Predicted Class: 0\n",
      "Probabilities: [[0.9998581409454346, 0.00010287507757311687, 3.8956888602115214e-05]]\n"
     ]
    }
   ],
   "source": [
    "# sample case\n",
    "model.eval()\n",
    "def predict_domain(domain):\n",
    "    inputs = tokenizer(domain, return_tensors=\"pt\", truncation=True, padding=\"max_length\", max_length=30)\n",
    "\n",
    "    with torch.no_grad():\n",
    "        outputs = model(**inputs)\n",
    "\n",
    "    logits = outputs.logits\n",
    "    probabilities = torch.nn.functional.softmax(logits, dim=-1)\n",
    "    predicted_class = torch.argmax(probabilities).item()\n",
    "\n",
    "    return predicted_class, probabilities.tolist()\n",
    "\n",
    "domain = \"samsungmobile.co.il\"\n",
    "predicted_class, probabilities = predict_domain(domain)\n",
    "\n",
    "print(f\"Domain: {domain}\")\n",
    "print(f\"Predicted Class: {predicted_class}\")\n",
    "print(f\"Probabilities: {probabilities}\")"
   ]
  },
  {
   "cell_type": "code",
   "execution_count": 10,
   "id": "baf86515-affc-43c5-b945-21a77e1df031",
   "metadata": {},
   "outputs": [
    {
     "data": {
      "application/vnd.jupyter.widget-view+json": {
       "model_id": "174a6608c034432fa7b4965129dd9cd3",
       "version_major": 2,
       "version_minor": 0
      },
      "text/plain": [
       "Map:   0%|          | 0/60000 [00:00<?, ? examples/s]"
      ]
     },
     "metadata": {},
     "output_type": "display_data"
    }
   ],
   "source": [
    "test_dataset = test_dataset.map(\n",
    "    lambda example: {\"predict\": predict_domain(example[\"default/domain\"])[0]}\n",
    ")"
   ]
  },
  {
   "cell_type": "code",
   "execution_count": 36,
   "id": "3fa48f0d-8db9-497f-927e-9df2db1609ae",
   "metadata": {},
   "outputs": [
    {
     "name": "stdout",
     "output_type": "stream",
     "text": [
      "[[19881   264    49]\n",
      " [  317 19374     0]\n",
      " [   17   147 19951]]\n",
      "              precision    recall  f1-score   support\n",
      "\n",
      "           0       0.98      0.98      0.98     20194\n",
      "           1       0.98      0.98      0.98     19691\n",
      "           2       1.00      0.99      0.99     20115\n",
      "\n",
      "    accuracy                           0.99     60000\n",
      "   macro avg       0.99      0.99      0.99     60000\n",
      "weighted avg       0.99      0.99      0.99     60000\n",
      "\n",
      "                         Score\n",
      "Accuracy              0.986767\n",
      "Precision (Macro)     0.986751\n",
      "Recall (Macro)        0.986750\n",
      "F1-score (Macro)      0.986746\n",
      "Precision (Weighted)  0.986800\n",
      "Recall (Weighted)     0.986767\n",
      "F1-score (Weighted)   0.986779\n"
     ]
    }
   ],
   "source": [
    "import pandas as pd\n",
    "from sklearn.metrics import confusion_matrix, classification_report, accuracy_score, precision_score, recall_score, f1_score\n",
    "\n",
    "df = pd.DataFrame({\n",
    "    \"label\": test_dataset[\"label\"],\n",
    "    \"predict\": test_dataset[\"predict\"]\n",
    "})\n",
    "\n",
    "report = classification_report(df['label'], df['predict'])\n",
    "cm = confusion_matrix(df['label'], df['predict'])\n",
    "print(cm)\n",
    "print(report)\n",
    "overall_metrics = {\n",
    "    \"Accuracy\": accuracy_score(df[\"label\"], df[\"predict\"]),\n",
    "    \"Precision (Macro)\": precision_score(df[\"label\"], df[\"predict\"], average=\"macro\"),\n",
    "    \"Recall (Macro)\": recall_score(df[\"label\"], df[\"predict\"], average=\"macro\"),\n",
    "    \"F1-score (Macro)\": f1_score(df[\"label\"], df[\"predict\"], average=\"macro\"),\n",
    "    \"Precision (Weighted)\": precision_score(df[\"label\"], df[\"predict\"], average=\"weighted\"),\n",
    "    \"Recall (Weighted)\": recall_score(df[\"label\"], df[\"predict\"], average=\"weighted\"),\n",
    "    \"F1-score (Weighted)\": f1_score(df[\"label\"], df[\"predict\"], average=\"weighted\"),\n",
    "}\n",
    "\n",
    "overall_metrics_df = pd.DataFrame(overall_metrics, index=[\"Score\"]).transpose()\n",
    "print(overall_metrics_df)"
   ]
  },
  {
   "cell_type": "code",
   "execution_count": null,
   "id": "ac2cf84d-8ac3-4f1e-8339-53ba00365dbb",
   "metadata": {},
   "outputs": [],
   "source": []
  }
 ],
 "metadata": {
  "kernelspec": {
   "display_name": "Python 3 (ipykernel)",
   "language": "python",
   "name": "python3"
  },
  "language_info": {
   "codemirror_mode": {
    "name": "ipython",
    "version": 3
   },
   "file_extension": ".py",
   "mimetype": "text/x-python",
   "name": "python",
   "nbconvert_exporter": "python",
   "pygments_lexer": "ipython3",
   "version": "3.9.18"
  }
 },
 "nbformat": 4,
 "nbformat_minor": 5
}
