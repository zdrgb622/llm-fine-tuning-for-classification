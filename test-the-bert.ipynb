{
 "cells": [
  {
   "cell_type": "code",
   "execution_count": 1,
   "id": "741d1c13-691d-4d91-aeab-8a2ff4f69150",
   "metadata": {},
   "outputs": [
    {
     "name": "stdout",
     "output_type": "stream",
     "text": [
      "import error: No module named 'triton'\n"
     ]
    }
   ],
   "source": [
    "from transformers import BertTokenizer, BertForSequenceClassification\n",
    "import torch\n",
    "from transformers import Trainer, TrainingArguments\n",
    "import numpy as np\n",
    "from sklearn.metrics import accuracy_score, precision_recall_fscore_support\n",
    "\n",
    "#load the model\n",
    "model_path = \"./finetuned_model\"\n",
    "tokenizer = BertTokenizer.from_pretrained(model_path)\n",
    "model = BertForSequenceClassification.from_pretrained(model_path)\n"
   ]
  },
  {
   "cell_type": "code",
   "execution_count": 2,
   "id": "fa5689ee-2e65-402b-9437-cee1af0236ac",
   "metadata": {},
   "outputs": [
    {
     "data": {
      "application/vnd.jupyter.widget-view+json": {
       "model_id": "62218dd088d4446eb748a517741afc73",
       "version_major": 2,
       "version_minor": 0
      },
      "text/plain": [
       "Generating train split: 0 examples [00:00, ? examples/s]"
      ]
     },
     "metadata": {},
     "output_type": "display_data"
    },
    {
     "data": {
      "application/vnd.jupyter.widget-view+json": {
       "model_id": "a735882dd4b14e3b85b4138d885fe3ad",
       "version_major": 2,
       "version_minor": 0
      },
      "text/plain": [
       "Map:   0%|          | 0/300000 [00:00<?, ? examples/s]"
      ]
     },
     "metadata": {},
     "output_type": "display_data"
    }
   ],
   "source": [
    "from datasets import load_dataset\n",
    "\n",
    "dataset_name = \"data/balanced_record_without_llm.csv\"\n",
    "dataset = load_dataset(\"csv\", data_files=dataset_name)\n",
    "\n",
    "# processing function which will be applied to the dataset\n",
    "def preprocess_function(examples):\n",
    "    text_inputs = examples[\"default/domain\"]\n",
    "    encoding = tokenizer(text_inputs, truncation=True, padding=\"max_length\", max_length=30)\n",
    "    encoding[\"label\"] = examples[\"default/class\"]\n",
    "\n",
    "    return encoding\n",
    "\n",
    "dataset = dataset.map(preprocess_function, batched=True)\n",
    "\n",
    "splited_dataset = dataset[\"train\"].train_test_split(test_size=0.2, seed=42)\n",
    "train_dataset, test_dataset = splited_dataset[\"train\"], splited_dataset[\"test\"]\n"
   ]
  },
  {
   "cell_type": "code",
   "execution_count": 3,
   "id": "a5a85e25-a83a-44a6-a715-82261088d203",
   "metadata": {},
   "outputs": [
    {
     "name": "stdout",
     "output_type": "stream",
     "text": [
      "Domain: samsungmobile.co.il\n",
      "Predicted Class: 0\n",
      "Probabilities: [[0.9998581409454346, 0.00010287507757311687, 3.8956888602115214e-05]]\n"
     ]
    }
   ],
   "source": [
    "# sample case\n",
    "model.eval()\n",
    "def predict_domain(domain):\n",
    "    inputs = tokenizer(domain, return_tensors=\"pt\", truncation=True, padding=\"max_length\", max_length=30)\n",
    "\n",
    "    with torch.no_grad():\n",
    "        outputs = model(**inputs)\n",
    "\n",
    "    logits = outputs.logits\n",
    "    probabilities = torch.nn.functional.softmax(logits, dim=-1)\n",
    "    predicted_class = torch.argmax(probabilities).item()\n",
    "\n",
    "    return predicted_class, probabilities.tolist()\n",
    "\n",
    "domain = \"samsungmobile.co.il\"\n",
    "predicted_class, probabilities = predict_domain(domain)\n",
    "\n",
    "print(f\"Domain: {domain}\")\n",
    "print(f\"Predicted Class: {predicted_class}\")\n",
    "print(f\"Probabilities: {probabilities}\")"
   ]
  },
  {
   "cell_type": "code",
   "execution_count": null,
   "id": "baf86515-affc-43c5-b945-21a77e1df031",
   "metadata": {},
   "outputs": [
    {
     "data": {
      "application/vnd.jupyter.widget-view+json": {
       "model_id": "174a6608c034432fa7b4965129dd9cd3",
       "version_major": 2,
       "version_minor": 0
      },
      "text/plain": [
       "Map:   0%|          | 0/60000 [00:00<?, ? examples/s]"
      ]
     },
     "metadata": {},
     "output_type": "display_data"
    }
   ],
   "source": [
    "test_dataset = test_dataset.map(\n",
    "    lambda example: {\"predict\": predict_domain(example[\"default/domain\"])[0]}\n",
    ")"
   ]
  },
  {
   "cell_type": "code",
   "execution_count": 4,
   "id": "b89206d1-ca3d-4cd6-a1d0-3676837ff7f2",
   "metadata": {},
   "outputs": [
    {
     "name": "stderr",
     "output_type": "stream",
     "text": [
      "C:\\Users\\aa\\AppData\\Local\\Temp\\ipykernel_18012\\2760565558.py:19: FutureWarning: `tokenizer` is deprecated and will be removed in version 5.0.0 for `Trainer.__init__`. Use `processing_class` instead.\n",
      "  trainer = Trainer(\n"
     ]
    }
   ],
   "source": [
    "def compute_metrics(eval_pred):\n",
    "    logits, labels = eval_pred  # logits: score\n",
    "    predictions = np.argmax(logits, axis=-1)\n",
    "    accuracy = accuracy_score(labels, predictions)\n",
    "    precision, recall, f1, _ = precision_recall_fscore_support(labels, predictions, average=\"weighted\")\n",
    "    return {\n",
    "        \"accuracy\": accuracy,\n",
    "        \"precision\": precision,\n",
    "        \"recall\": recall,\n",
    "        \"f1\": f1,\n",
    "    }\n",
    "\n",
    "\n",
    "training_args = TrainingArguments(\n",
    "    output_dir=\"./results\",\n",
    "    per_device_eval_batch_size=16,\n",
    ")\n",
    "\n",
    "trainer = Trainer(\n",
    "    model=model,                      \n",
    "    args=training_args,\n",
    "    eval_dataset=test_dataset,        \n",
    "    tokenizer=tokenizer,\n",
    "    compute_metrics=compute_metrics,  \n",
    ")"
   ]
  },
  {
   "cell_type": "code",
   "execution_count": 5,
   "id": "b62ad9d7-4d3c-47b1-bee3-a3c9ce0f0213",
   "metadata": {},
   "outputs": [
    {
     "data": {
      "text/html": [
       "\n",
       "    <div>\n",
       "      \n",
       "      <progress value='3750' max='3750' style='width:300px; height:20px; vertical-align: middle;'></progress>\n",
       "      [3750/3750 00:55]\n",
       "    </div>\n",
       "    "
      ],
      "text/plain": [
       "<IPython.core.display.HTML object>"
      ]
     },
     "metadata": {},
     "output_type": "display_data"
    },
    {
     "name": "stdout",
     "output_type": "stream",
     "text": [
      "Evaluation results: {'eval_loss': 0.06996390223503113, 'eval_model_preparation_time': 0.002, 'eval_accuracy': 0.9867666666666667, 'eval_precision': 0.9868002985250772, 'eval_recall': 0.9867666666666667, 'eval_f1': 0.9867788260539613, 'eval_runtime': 55.237, 'eval_samples_per_second': 1086.228, 'eval_steps_per_second': 67.889}\n"
     ]
    }
   ],
   "source": [
    "results = trainer.evaluate()\n",
    "print(\"Evaluation results:\", results)"
   ]
  },
  {
   "cell_type": "code",
   "execution_count": 7,
   "id": "b9070b17-b9f3-4687-9e25-8cd84599367d",
   "metadata": {},
   "outputs": [],
   "source": [
    "# test it on the llm domain\n",
    "dataset_name = \"data/llm_domain.csv\"\n",
    "llm_dataset = load_dataset(\"csv\", data_files=dataset_name)\n",
    "def preprocess_function(examples):\n",
    "    text_inputs = examples[\"domain\"]\n",
    "    encoding = tokenizer(text_inputs, truncation=True, padding=\"max_length\", max_length=30)\n",
    "    encoding[\"label\"] = [2] * len(text_inputs)\n",
    "\n",
    "    return encoding\n",
    "llm_dataset = llm_dataset.map(preprocess_function, batched=True)"
   ]
  },
  {
   "cell_type": "code",
   "execution_count": 15,
   "id": "02f650ab-33e2-46f9-9e88-89735727da9a",
   "metadata": {},
   "outputs": [
    {
     "name": "stderr",
     "output_type": "stream",
     "text": [
      "C:\\Users\\aa\\AppData\\Local\\Temp\\ipykernel_18012\\4096208225.py:1: FutureWarning: `tokenizer` is deprecated and will be removed in version 5.0.0 for `Trainer.__init__`. Use `processing_class` instead.\n",
      "  trainer = Trainer(\n"
     ]
    },
    {
     "data": {
      "text/html": [
       "\n",
       "    <div>\n",
       "      \n",
       "      <progress value='1071' max='1071' style='width:300px; height:20px; vertical-align: middle;'></progress>\n",
       "      [1071/1071 00:15]\n",
       "    </div>\n",
       "    "
      ],
      "text/plain": [
       "<IPython.core.display.HTML object>"
      ]
     },
     "metadata": {},
     "output_type": "display_data"
    },
    {
     "name": "stdout",
     "output_type": "stream",
     "text": [
      "Evaluation results: {'eval_train_loss': 9.5806303024292, 'eval_train_model_preparation_time': 0.001, 'eval_train_accuracy': 0.02493721894527828, 'eval_train_precision': 1.0, 'eval_train_recall': 0.02493721894527828, 'eval_train_f1': 0.04866096866096866, 'eval_train_runtime': 15.4468, 'eval_train_samples_per_second': 1108.516, 'eval_train_steps_per_second': 69.335}\n"
     ]
    },
    {
     "name": "stderr",
     "output_type": "stream",
     "text": [
      "C:\\Users\\aa\\anaconda3\\envs\\gpu2\\lib\\site-packages\\sklearn\\metrics\\_classification.py:1531: UndefinedMetricWarning: Recall is ill-defined and being set to 0.0 in labels with no true samples. Use `zero_division` parameter to control this behavior.\n",
      "  _warn_prf(average, modifier, f\"{metric.capitalize()} is\", len(result))\n"
     ]
    }
   ],
   "source": [
    "trainer = Trainer(\n",
    "    model=model,                      \n",
    "    args=training_args,\n",
    "    eval_dataset=llm_dataset,        \n",
    "    tokenizer=tokenizer,\n",
    "    compute_metrics=compute_metrics,  \n",
    ")\n",
    "results = trainer.evaluate()\n",
    "print(\"Evaluation results:\", results)"
   ]
  },
  {
   "cell_type": "code",
   "execution_count": null,
   "id": "67875670-fa65-4bc4-b1d1-2e780c671c9f",
   "metadata": {},
   "outputs": [],
   "source": []
  }
 ],
 "metadata": {
  "kernelspec": {
   "display_name": "Python 3 (ipykernel)",
   "language": "python",
   "name": "python3"
  },
  "language_info": {
   "codemirror_mode": {
    "name": "ipython",
    "version": 3
   },
   "file_extension": ".py",
   "mimetype": "text/x-python",
   "name": "python",
   "nbconvert_exporter": "python",
   "pygments_lexer": "ipython3",
   "version": "3.9.18"
  }
 },
 "nbformat": 4,
 "nbformat_minor": 5
}
