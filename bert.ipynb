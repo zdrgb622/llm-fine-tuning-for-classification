{
 "cells": [
  {
   "cell_type": "code",
   "execution_count": 26,
   "id": "db2f86b6-5c3c-4944-9b98-6f9c682beea6",
   "metadata": {},
   "outputs": [],
   "source": [
    "from dotenv import load_dotenv\n",
    "import os\n",
    "import torch\n",
    "from transformers import AutoTokenizer, AutoModelForSequenceClassification, TrainingArguments, Trainer, BertForSequenceClassification\n",
    "from datasets import Dataset, DatasetDict\n",
    "from peft import get_peft_model, LoraConfig, TaskType\n"
   ]
  },
  {
   "cell_type": "code",
   "execution_count": 12,
   "id": "11510177-134c-41a5-a899-65bdfa342f49",
   "metadata": {},
   "outputs": [],
   "source": [
    "load_dotenv()\n",
    "hugging_face_token = os.getenv(\"HUGGING_FACE_TOKEN\")"
   ]
  },
  {
   "cell_type": "code",
   "execution_count": 48,
   "id": "27d66dd4-bf17-4785-864d-fb70b9ffe05a",
   "metadata": {},
   "outputs": [],
   "source": [
    "model_name = \"bert-base-uncased\"\n",
    "tokenizer = AutoTokenizer.from_pretrained(model_name, token=hugging_face_token)"
   ]
  },
  {
   "cell_type": "code",
   "execution_count": 45,
   "id": "26cf3073-c64b-4489-a7f7-34742f48282e",
   "metadata": {},
   "outputs": [
    {
     "data": {
      "application/vnd.jupyter.widget-view+json": {
       "model_id": "445a8c69a1f94e78936497182242244a",
       "version_major": 2,
       "version_minor": 0
      },
      "text/plain": [
       "Map:   0%|          | 0/300000 [00:00<?, ? examples/s]"
      ]
     },
     "metadata": {},
     "output_type": "display_data"
    }
   ],
   "source": [
    "from datasets import load_dataset\n",
    "\n",
    "dataset_name = \"data/balanced_record_without_llm.csv\"\n",
    "dataset = load_dataset(\"csv\", data_files=dataset_name)\n",
    "\n",
    "# processing function which will be applied to the dataset\n",
    "def preprocess_function(examples):\n",
    "    text_inputs = examples[\"default/domain\"]\n",
    "    encoding = tokenizer(text_inputs, truncation=True, padding=\"max_length\", max_length=30)\n",
    "    encoding[\"label\"] = examples[\"default/class\"]\n",
    "\n",
    "    return encoding\n",
    "\n",
    "dataset = dataset.map(preprocess_function, batched=True)\n",
    "\n",
    "splited_dataset = dataset[\"train\"].train_test_split(test_size=0.2, seed=42)\n",
    "train_dataset, test_dataset = splited_dataset[\"train\"], splited_dataset[\"test\"]\n"
   ]
  },
  {
   "cell_type": "code",
   "execution_count": 29,
   "id": "a01716de-7ce5-4f26-b750-8b71a68fe0d4",
   "metadata": {},
   "outputs": [
    {
     "data": {
      "application/vnd.jupyter.widget-view+json": {
       "model_id": "3010fd89fac1495b9662805fcdd138a5",
       "version_major": 2,
       "version_minor": 0
      },
      "text/plain": [
       "model.safetensors:  62%|######1   | 273M/440M [00:00<?, ?B/s]"
      ]
     },
     "metadata": {},
     "output_type": "display_data"
    },
    {
     "name": "stderr",
     "output_type": "stream",
     "text": [
      "Some weights of BertForSequenceClassification were not initialized from the model checkpoint at bert-base-uncased and are newly initialized: ['classifier.bias', 'classifier.weight']\n",
      "You should probably TRAIN this model on a down-stream task to be able to use it for predictions and inference.\n"
     ]
    }
   ],
   "source": [
    "model = BertForSequenceClassification.from_pretrained(model_name, num_labels=3, token=hugging_face_token) # we have 3 different labels "
   ]
  },
  {
   "cell_type": "code",
   "execution_count": 57,
   "id": "d1001014-0e0e-4943-b363-154bdbe5f3a1",
   "metadata": {},
   "outputs": [
    {
     "name": "stderr",
     "output_type": "stream",
     "text": [
      "C:\\Users\\aa\\AppData\\Local\\Temp\\ipykernel_19432\\3352163665.py:12: FutureWarning: `tokenizer` is deprecated and will be removed in version 5.0.0 for `Trainer.__init__`. Use `processing_class` instead.\n",
      "  trainer = Trainer(\n"
     ]
    }
   ],
   "source": [
    "training_args = TrainingArguments(\n",
    "    output_dir=\"./bert_results\",\n",
    "    num_train_epochs=3, # 3 epochs\n",
    "    per_device_train_batch_size=16, # batch size\n",
    "    per_device_eval_batch_size=16,\n",
    "    evaluation_strategy=\"epoch\",\n",
    "    learning_rate=5e-5,\n",
    "    logging_dir=\"./bert_logs\",\n",
    "    logging_steps=10,\n",
    ")\n",
    "\n",
    "trainer = Trainer(\n",
    "    model=model,\n",
    "    args=training_args,\n",
    "    train_dataset=train_dataset,\n",
    "    eval_dataset=test_dataset,\n",
    "    tokenizer=tokenizer,\n",
    ")"
   ]
  },
  {
   "cell_type": "code",
   "execution_count": 58,
   "id": "9228ba0d-7dae-4265-9225-8a94060195fb",
   "metadata": {},
   "outputs": [
    {
     "data": {
      "text/html": [
       "\n",
       "    <div>\n",
       "      \n",
       "      <progress value='45000' max='45000' style='width:300px; height:20px; vertical-align: middle;'></progress>\n",
       "      [45000/45000 1:03:50, Epoch 3/3]\n",
       "    </div>\n",
       "    <table border=\"1\" class=\"dataframe\">\n",
       "  <thead>\n",
       " <tr style=\"text-align: left;\">\n",
       "      <th>Epoch</th>\n",
       "      <th>Training Loss</th>\n",
       "      <th>Validation Loss</th>\n",
       "    </tr>\n",
       "  </thead>\n",
       "  <tbody>\n",
       "    <tr>\n",
       "      <td>1</td>\n",
       "      <td>0.143100</td>\n",
       "      <td>0.081626</td>\n",
       "    </tr>\n",
       "    <tr>\n",
       "      <td>2</td>\n",
       "      <td>0.178200</td>\n",
       "      <td>0.077624</td>\n",
       "    </tr>\n",
       "    <tr>\n",
       "      <td>3</td>\n",
       "      <td>0.043400</td>\n",
       "      <td>0.069964</td>\n",
       "    </tr>\n",
       "  </tbody>\n",
       "</table><p>"
      ],
      "text/plain": [
       "<IPython.core.display.HTML object>"
      ]
     },
     "metadata": {},
     "output_type": "display_data"
    },
    {
     "data": {
      "text/plain": [
       "TrainOutput(global_step=45000, training_loss=0.07704883529939172, metrics={'train_runtime': 3830.9665, 'train_samples_per_second': 187.942, 'train_steps_per_second': 11.746, 'total_flos': 1.11000973104e+16, 'train_loss': 0.07704883529939172, 'epoch': 3.0})"
      ]
     },
     "execution_count": 58,
     "metadata": {},
     "output_type": "execute_result"
    }
   ],
   "source": [
    "trainer.train()"
   ]
  },
  {
   "cell_type": "code",
   "execution_count": 59,
   "id": "20b0fcd6-3021-49da-9129-e426c464518e",
   "metadata": {},
   "outputs": [
    {
     "data": {
      "text/plain": [
       "('./finetuned_model\\\\tokenizer_config.json',\n",
       " './finetuned_model\\\\special_tokens_map.json',\n",
       " './finetuned_model\\\\vocab.txt',\n",
       " './finetuned_model\\\\added_tokens.json',\n",
       " './finetuned_model\\\\tokenizer.json')"
      ]
     },
     "execution_count": 59,
     "metadata": {},
     "output_type": "execute_result"
    }
   ],
   "source": [
    "model.save_pretrained(\"./finetuned_model\")\n",
    "tokenizer.save_pretrained(\"./finetuned_model\")\n"
   ]
  },
  {
   "cell_type": "code",
   "execution_count": null,
   "id": "d81e1541-11c1-45b7-824d-befd0a645d14",
   "metadata": {},
   "outputs": [],
   "source": []
  }
 ],
 "metadata": {
  "kernelspec": {
   "display_name": "Python 3 (ipykernel)",
   "language": "python",
   "name": "python3"
  },
  "language_info": {
   "codemirror_mode": {
    "name": "ipython",
    "version": 3
   },
   "file_extension": ".py",
   "mimetype": "text/x-python",
   "name": "python",
   "nbconvert_exporter": "python",
   "pygments_lexer": "ipython3",
   "version": "3.9.18"
  }
 },
 "nbformat": 4,
 "nbformat_minor": 5
}
